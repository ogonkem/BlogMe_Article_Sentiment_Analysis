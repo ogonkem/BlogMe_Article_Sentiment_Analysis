{
 "cells": [
  {
   "cell_type": "code",
   "execution_count": 1,
   "metadata": {},
   "outputs": [],
   "source": [
    "import pandas as pd\n",
    "from vaderSentiment.vaderSentiment import SentimentIntensityAnalyzer"
   ]
  },
  {
   "cell_type": "code",
   "execution_count": 2,
   "metadata": {},
   "outputs": [
    {
     "data": {
      "text/html": [
       "<div>\n",
       "<style scoped>\n",
       "    .dataframe tbody tr th:only-of-type {\n",
       "        vertical-align: middle;\n",
       "    }\n",
       "\n",
       "    .dataframe tbody tr th {\n",
       "        vertical-align: top;\n",
       "    }\n",
       "\n",
       "    .dataframe thead th {\n",
       "        text-align: right;\n",
       "    }\n",
       "</style>\n",
       "<table border=\"1\" class=\"dataframe\">\n",
       "  <thead>\n",
       "    <tr style=\"text-align: right;\">\n",
       "      <th></th>\n",
       "      <th>article_id</th>\n",
       "      <th>source_id</th>\n",
       "      <th>source_name</th>\n",
       "      <th>author</th>\n",
       "      <th>title</th>\n",
       "      <th>description</th>\n",
       "      <th>url</th>\n",
       "      <th>url_to_image</th>\n",
       "      <th>published_at</th>\n",
       "      <th>content</th>\n",
       "      <th>top_article</th>\n",
       "      <th>engagement_reaction_count</th>\n",
       "      <th>engagement_comment_count</th>\n",
       "      <th>engagement_share_count</th>\n",
       "      <th>engagement_comment_plugin_count</th>\n",
       "    </tr>\n",
       "  </thead>\n",
       "  <tbody>\n",
       "    <tr>\n",
       "      <th>0</th>\n",
       "      <td>0</td>\n",
       "      <td>reuters</td>\n",
       "      <td>Reuters</td>\n",
       "      <td>Reuters Editorial</td>\n",
       "      <td>NTSB says Autopilot engaged in 2018 California...</td>\n",
       "      <td>The National Transportation Safety Board said ...</td>\n",
       "      <td>https://www.reuters.com/article/us-tesla-crash...</td>\n",
       "      <td>https://s4.reutersmedia.net/resources/r/?m=02&amp;...</td>\n",
       "      <td>2019-09-03T16:22:20Z</td>\n",
       "      <td>WASHINGTON (Reuters) - The National Transporta...</td>\n",
       "      <td>0.0</td>\n",
       "      <td>0.0</td>\n",
       "      <td>0.0</td>\n",
       "      <td>2528.0</td>\n",
       "      <td>0.0</td>\n",
       "    </tr>\n",
       "    <tr>\n",
       "      <th>1</th>\n",
       "      <td>1</td>\n",
       "      <td>the-irish-times</td>\n",
       "      <td>The Irish Times</td>\n",
       "      <td>Eoin Burke-Kennedy</td>\n",
       "      <td>Unemployment falls to post-crash low of 5.2%</td>\n",
       "      <td>Latest monthly figures reflect continued growt...</td>\n",
       "      <td>https://www.irishtimes.com/business/economy/un...</td>\n",
       "      <td>https://www.irishtimes.com/image-creator/?id=1...</td>\n",
       "      <td>2019-09-03T10:32:28Z</td>\n",
       "      <td>The States jobless rate fell to 5.2 per cent l...</td>\n",
       "      <td>0.0</td>\n",
       "      <td>6.0</td>\n",
       "      <td>10.0</td>\n",
       "      <td>2.0</td>\n",
       "      <td>0.0</td>\n",
       "    </tr>\n",
       "    <tr>\n",
       "      <th>2</th>\n",
       "      <td>2</td>\n",
       "      <td>the-irish-times</td>\n",
       "      <td>The Irish Times</td>\n",
       "      <td>Deirdre McQuillan</td>\n",
       "      <td>Louise Kennedy AW2019: Long coats, sparkling t...</td>\n",
       "      <td>Autumn-winter collection features designer’s g...</td>\n",
       "      <td>https://www.irishtimes.com/\\t\\t\\t\\t\\t\\t\\t/life...</td>\n",
       "      <td>https://www.irishtimes.com/image-creator/?id=1...</td>\n",
       "      <td>2019-09-03T14:40:00Z</td>\n",
       "      <td>Louise Kennedy is showing off her autumn-winte...</td>\n",
       "      <td>1.0</td>\n",
       "      <td>NaN</td>\n",
       "      <td>NaN</td>\n",
       "      <td>NaN</td>\n",
       "      <td>NaN</td>\n",
       "    </tr>\n",
       "    <tr>\n",
       "      <th>3</th>\n",
       "      <td>3</td>\n",
       "      <td>al-jazeera-english</td>\n",
       "      <td>Al Jazeera English</td>\n",
       "      <td>Al Jazeera</td>\n",
       "      <td>North Korean footballer Han joins Italian gian...</td>\n",
       "      <td>Han is the first North Korean player in the Se...</td>\n",
       "      <td>https://www.aljazeera.com/news/2019/09/north-k...</td>\n",
       "      <td>https://www.aljazeera.com/mritems/Images/2019/...</td>\n",
       "      <td>2019-09-03T17:25:39Z</td>\n",
       "      <td>Han Kwang Song, the first North Korean footbal...</td>\n",
       "      <td>0.0</td>\n",
       "      <td>0.0</td>\n",
       "      <td>0.0</td>\n",
       "      <td>7.0</td>\n",
       "      <td>0.0</td>\n",
       "    </tr>\n",
       "    <tr>\n",
       "      <th>4</th>\n",
       "      <td>4</td>\n",
       "      <td>bbc-news</td>\n",
       "      <td>BBC News</td>\n",
       "      <td>BBC News</td>\n",
       "      <td>UK government lawyer says proroguing parliamen...</td>\n",
       "      <td>The UK government's lawyer, David Johnston arg...</td>\n",
       "      <td>https://www.bbc.co.uk/news/av/uk-scotland-4956...</td>\n",
       "      <td>https://ichef.bbci.co.uk/news/1024/branded_new...</td>\n",
       "      <td>2019-09-03T14:39:21Z</td>\n",
       "      <td>NaN</td>\n",
       "      <td>0.0</td>\n",
       "      <td>0.0</td>\n",
       "      <td>0.0</td>\n",
       "      <td>0.0</td>\n",
       "      <td>0.0</td>\n",
       "    </tr>\n",
       "  </tbody>\n",
       "</table>\n",
       "</div>"
      ],
      "text/plain": [
       "   article_id           source_id         source_name              author  \\\n",
       "0           0             reuters             Reuters   Reuters Editorial   \n",
       "1           1     the-irish-times     The Irish Times  Eoin Burke-Kennedy   \n",
       "2           2     the-irish-times     The Irish Times   Deirdre McQuillan   \n",
       "3           3  al-jazeera-english  Al Jazeera English          Al Jazeera   \n",
       "4           4            bbc-news            BBC News            BBC News   \n",
       "\n",
       "                                               title  \\\n",
       "0  NTSB says Autopilot engaged in 2018 California...   \n",
       "1       Unemployment falls to post-crash low of 5.2%   \n",
       "2  Louise Kennedy AW2019: Long coats, sparkling t...   \n",
       "3  North Korean footballer Han joins Italian gian...   \n",
       "4  UK government lawyer says proroguing parliamen...   \n",
       "\n",
       "                                         description  \\\n",
       "0  The National Transportation Safety Board said ...   \n",
       "1  Latest monthly figures reflect continued growt...   \n",
       "2  Autumn-winter collection features designer’s g...   \n",
       "3  Han is the first North Korean player in the Se...   \n",
       "4  The UK government's lawyer, David Johnston arg...   \n",
       "\n",
       "                                                 url  \\\n",
       "0  https://www.reuters.com/article/us-tesla-crash...   \n",
       "1  https://www.irishtimes.com/business/economy/un...   \n",
       "2  https://www.irishtimes.com/\\t\\t\\t\\t\\t\\t\\t/life...   \n",
       "3  https://www.aljazeera.com/news/2019/09/north-k...   \n",
       "4  https://www.bbc.co.uk/news/av/uk-scotland-4956...   \n",
       "\n",
       "                                        url_to_image          published_at  \\\n",
       "0  https://s4.reutersmedia.net/resources/r/?m=02&...  2019-09-03T16:22:20Z   \n",
       "1  https://www.irishtimes.com/image-creator/?id=1...  2019-09-03T10:32:28Z   \n",
       "2  https://www.irishtimes.com/image-creator/?id=1...  2019-09-03T14:40:00Z   \n",
       "3  https://www.aljazeera.com/mritems/Images/2019/...  2019-09-03T17:25:39Z   \n",
       "4  https://ichef.bbci.co.uk/news/1024/branded_new...  2019-09-03T14:39:21Z   \n",
       "\n",
       "                                             content  top_article  \\\n",
       "0  WASHINGTON (Reuters) - The National Transporta...          0.0   \n",
       "1  The States jobless rate fell to 5.2 per cent l...          0.0   \n",
       "2  Louise Kennedy is showing off her autumn-winte...          1.0   \n",
       "3  Han Kwang Song, the first North Korean footbal...          0.0   \n",
       "4                                                NaN          0.0   \n",
       "\n",
       "   engagement_reaction_count  engagement_comment_count  \\\n",
       "0                        0.0                       0.0   \n",
       "1                        6.0                      10.0   \n",
       "2                        NaN                       NaN   \n",
       "3                        0.0                       0.0   \n",
       "4                        0.0                       0.0   \n",
       "\n",
       "   engagement_share_count  engagement_comment_plugin_count  \n",
       "0                  2528.0                              0.0  \n",
       "1                     2.0                              0.0  \n",
       "2                     NaN                              NaN  \n",
       "3                     7.0                              0.0  \n",
       "4                     0.0                              0.0  "
      ]
     },
     "execution_count": 2,
     "metadata": {},
     "output_type": "execute_result"
    }
   ],
   "source": [
    "# reading excel or xlsx files\n",
    "data = pd.read_excel('Data/articles.xlsx')\n",
    "data.head()"
   ]
  },
  {
   "cell_type": "code",
   "execution_count": 3,
   "metadata": {},
   "outputs": [
    {
     "data": {
      "text/html": [
       "<div>\n",
       "<style scoped>\n",
       "    .dataframe tbody tr th:only-of-type {\n",
       "        vertical-align: middle;\n",
       "    }\n",
       "\n",
       "    .dataframe tbody tr th {\n",
       "        vertical-align: top;\n",
       "    }\n",
       "\n",
       "    .dataframe thead th {\n",
       "        text-align: right;\n",
       "    }\n",
       "</style>\n",
       "<table border=\"1\" class=\"dataframe\">\n",
       "  <thead>\n",
       "    <tr style=\"text-align: right;\">\n",
       "      <th></th>\n",
       "      <th>article_id</th>\n",
       "      <th>top_article</th>\n",
       "      <th>engagement_reaction_count</th>\n",
       "      <th>engagement_comment_count</th>\n",
       "      <th>engagement_share_count</th>\n",
       "      <th>engagement_comment_plugin_count</th>\n",
       "    </tr>\n",
       "  </thead>\n",
       "  <tbody>\n",
       "    <tr>\n",
       "      <th>count</th>\n",
       "      <td>10437.000000</td>\n",
       "      <td>10435.000000</td>\n",
       "      <td>10319.000000</td>\n",
       "      <td>10319.000000</td>\n",
       "      <td>10319.000000</td>\n",
       "      <td>10319.000000</td>\n",
       "    </tr>\n",
       "    <tr>\n",
       "      <th>mean</th>\n",
       "      <td>5218.000000</td>\n",
       "      <td>0.122089</td>\n",
       "      <td>381.395290</td>\n",
       "      <td>124.032949</td>\n",
       "      <td>196.236263</td>\n",
       "      <td>0.011629</td>\n",
       "    </tr>\n",
       "    <tr>\n",
       "      <th>std</th>\n",
       "      <td>3013.046714</td>\n",
       "      <td>0.327404</td>\n",
       "      <td>4433.344792</td>\n",
       "      <td>965.351188</td>\n",
       "      <td>1020.680229</td>\n",
       "      <td>0.268276</td>\n",
       "    </tr>\n",
       "    <tr>\n",
       "      <th>min</th>\n",
       "      <td>0.000000</td>\n",
       "      <td>0.000000</td>\n",
       "      <td>0.000000</td>\n",
       "      <td>0.000000</td>\n",
       "      <td>0.000000</td>\n",
       "      <td>0.000000</td>\n",
       "    </tr>\n",
       "    <tr>\n",
       "      <th>25%</th>\n",
       "      <td>2609.000000</td>\n",
       "      <td>0.000000</td>\n",
       "      <td>0.000000</td>\n",
       "      <td>0.000000</td>\n",
       "      <td>1.000000</td>\n",
       "      <td>0.000000</td>\n",
       "    </tr>\n",
       "    <tr>\n",
       "      <th>50%</th>\n",
       "      <td>5218.000000</td>\n",
       "      <td>0.000000</td>\n",
       "      <td>1.000000</td>\n",
       "      <td>0.000000</td>\n",
       "      <td>8.000000</td>\n",
       "      <td>0.000000</td>\n",
       "    </tr>\n",
       "    <tr>\n",
       "      <th>75%</th>\n",
       "      <td>7827.000000</td>\n",
       "      <td>0.000000</td>\n",
       "      <td>43.000000</td>\n",
       "      <td>12.000000</td>\n",
       "      <td>47.500000</td>\n",
       "      <td>0.000000</td>\n",
       "    </tr>\n",
       "    <tr>\n",
       "      <th>max</th>\n",
       "      <td>10436.000000</td>\n",
       "      <td>1.000000</td>\n",
       "      <td>354132.000000</td>\n",
       "      <td>48490.000000</td>\n",
       "      <td>39422.000000</td>\n",
       "      <td>15.000000</td>\n",
       "    </tr>\n",
       "  </tbody>\n",
       "</table>\n",
       "</div>"
      ],
      "text/plain": [
       "         article_id   top_article  engagement_reaction_count  \\\n",
       "count  10437.000000  10435.000000               10319.000000   \n",
       "mean    5218.000000      0.122089                 381.395290   \n",
       "std     3013.046714      0.327404                4433.344792   \n",
       "min        0.000000      0.000000                   0.000000   \n",
       "25%     2609.000000      0.000000                   0.000000   \n",
       "50%     5218.000000      0.000000                   1.000000   \n",
       "75%     7827.000000      0.000000                  43.000000   \n",
       "max    10436.000000      1.000000              354132.000000   \n",
       "\n",
       "       engagement_comment_count  engagement_share_count  \\\n",
       "count              10319.000000            10319.000000   \n",
       "mean                 124.032949              196.236263   \n",
       "std                  965.351188             1020.680229   \n",
       "min                    0.000000                0.000000   \n",
       "25%                    0.000000                1.000000   \n",
       "50%                    0.000000                8.000000   \n",
       "75%                   12.000000               47.500000   \n",
       "max                48490.000000            39422.000000   \n",
       "\n",
       "       engagement_comment_plugin_count  \n",
       "count                     10319.000000  \n",
       "mean                          0.011629  \n",
       "std                           0.268276  \n",
       "min                           0.000000  \n",
       "25%                           0.000000  \n",
       "50%                           0.000000  \n",
       "75%                           0.000000  \n",
       "max                          15.000000  "
      ]
     },
     "execution_count": 3,
     "metadata": {},
     "output_type": "execute_result"
    }
   ],
   "source": [
    "data.describe()"
   ]
  },
  {
   "cell_type": "code",
   "execution_count": 4,
   "metadata": {},
   "outputs": [
    {
     "name": "stdout",
     "output_type": "stream",
     "text": [
      "<class 'pandas.core.frame.DataFrame'>\n",
      "RangeIndex: 10437 entries, 0 to 10436\n",
      "Data columns (total 15 columns):\n",
      "article_id                         10437 non-null int64\n",
      "source_id                          10437 non-null object\n",
      "source_name                        10437 non-null object\n",
      "author                             9417 non-null object\n",
      "title                              10435 non-null object\n",
      "description                        10413 non-null object\n",
      "url                                10436 non-null object\n",
      "url_to_image                       9781 non-null object\n",
      "published_at                       10436 non-null object\n",
      "content                            9145 non-null object\n",
      "top_article                        10435 non-null float64\n",
      "engagement_reaction_count          10319 non-null float64\n",
      "engagement_comment_count           10319 non-null float64\n",
      "engagement_share_count             10319 non-null float64\n",
      "engagement_comment_plugin_count    10319 non-null float64\n",
      "dtypes: float64(5), int64(1), object(9)\n",
      "memory usage: 1.2+ MB\n"
     ]
    }
   ],
   "source": [
    "data.info()"
   ]
  },
  {
   "cell_type": "code",
   "execution_count": 5,
   "metadata": {},
   "outputs": [
    {
     "data": {
      "text/plain": [
       "source_id\n",
       "1                             1\n",
       "abc-news                   1139\n",
       "al-jazeera-english          499\n",
       "bbc-news                   1242\n",
       "business-insider           1048\n",
       "cbs-news                    952\n",
       "cnn                        1132\n",
       "espn                         82\n",
       "newsweek                    539\n",
       "reuters                    1252\n",
       "the-irish-times            1232\n",
       "the-new-york-times          986\n",
       "the-wall-street-journal     333\n",
       "Name: article_id, dtype: int64"
      ]
     },
     "execution_count": 5,
     "metadata": {},
     "output_type": "execute_result"
    }
   ],
   "source": [
    "# counting no of articles per source\n",
    "# group by format: df.groupby(['column_to_group'])['column_to_count'].count()\n",
    "# note: count counts unique items being grouped\n",
    "data.groupby(['source_id'])['article_id'].count()"
   ]
  },
  {
   "cell_type": "code",
   "execution_count": 6,
   "metadata": {},
   "outputs": [
    {
     "data": {
      "text/plain": [
       "source_id\n",
       "1                                0.0\n",
       "abc-news                    343779.0\n",
       "al-jazeera-english          140410.0\n",
       "bbc-news                    545396.0\n",
       "business-insider            216545.0\n",
       "cbs-news                    459741.0\n",
       "cnn                        1218206.0\n",
       "espn                             0.0\n",
       "newsweek                     93167.0\n",
       "reuters                      16963.0\n",
       "the-irish-times              26838.0\n",
       "the-new-york-times          790449.0\n",
       "the-wall-street-journal      84124.0\n",
       "Name: engagement_reaction_count, dtype: float64"
      ]
     },
     "execution_count": 6,
     "metadata": {},
     "output_type": "execute_result"
    }
   ],
   "source": [
    "# summing no of reactions by publisher\n",
    "# note: sum sums-up all items being grouped\n",
    "data.groupby(['source_id'])['engagement_reaction_count'].sum()"
   ]
  },
  {
   "cell_type": "code",
   "execution_count": 7,
   "metadata": {},
   "outputs": [
    {
     "name": "stdout",
     "output_type": "stream",
     "text": [
      "<class 'pandas.core.frame.DataFrame'>\n",
      "RangeIndex: 10437 entries, 0 to 10436\n",
      "Data columns (total 14 columns):\n",
      "article_id                   10437 non-null int64\n",
      "source_id                    10437 non-null object\n",
      "source_name                  10437 non-null object\n",
      "author                       9417 non-null object\n",
      "title                        10435 non-null object\n",
      "description                  10413 non-null object\n",
      "url                          10436 non-null object\n",
      "url_to_image                 9781 non-null object\n",
      "published_at                 10436 non-null object\n",
      "content                      9145 non-null object\n",
      "top_article                  10435 non-null float64\n",
      "engagement_reaction_count    10319 non-null float64\n",
      "engagement_comment_count     10319 non-null float64\n",
      "engagement_share_count       10319 non-null float64\n",
      "dtypes: float64(4), int64(1), object(9)\n",
      "memory usage: 1.1+ MB\n"
     ]
    }
   ],
   "source": [
    "# dropping a column\n",
    "data = data.drop('engagement_comment_plugin_count', axis=1)\n",
    "data.info()"
   ]
  },
  {
   "cell_type": "code",
   "execution_count": 8,
   "metadata": {},
   "outputs": [],
   "source": [
    "# creating a keyword flag\n",
    "# keyword = 'crash'\n",
    "# create for loop to isolate each title\n",
    "# length = len(data)\n",
    "# keyword_flags = []\n",
    "# for x in range(0,length):\n",
    "#     heading = data['title'][x]\n",
    "#     if keyword in str(heading):\n",
    "#         flag = 1\n",
    "#     else:\n",
    "#         flag = 0\n",
    "#     keyword_flags.append(flag)\n"
   ]
  },
  {
   "cell_type": "code",
   "execution_count": 9,
   "metadata": {},
   "outputs": [
    {
     "data": {
      "text/plain": [
       "[0, 0, 0, 0, 0, 0, 0, 0, 0, 0]"
      ]
     },
     "execution_count": 9,
     "metadata": {},
     "output_type": "execute_result"
    }
   ],
   "source": [
    "#  creating a function\n",
    "def KeywordFlag(keyword, length, col):\n",
    "    keyword_flags = []\n",
    "    for x in range(0,length):\n",
    "        heading = col[x]\n",
    "        if keyword in str(heading):\n",
    "            flag = 1\n",
    "        else:\n",
    "            flag = 0\n",
    "        keyword_flags.append(flag)\n",
    "    return keyword_flags\n",
    "\n",
    "flags = KeywordFlag('murder', len(data), data['title'])\n",
    "flags[-10:]"
   ]
  },
  {
   "cell_type": "code",
   "execution_count": 10,
   "metadata": {},
   "outputs": [],
   "source": [
    "data['keyword_flag'] = pd.Series(flags)"
   ]
  },
  {
   "cell_type": "code",
   "execution_count": 11,
   "metadata": {},
   "outputs": [
    {
     "name": "stdout",
     "output_type": "stream",
     "text": [
      "<class 'pandas.core.frame.DataFrame'>\n",
      "RangeIndex: 10437 entries, 0 to 10436\n",
      "Data columns (total 15 columns):\n",
      "article_id                   10437 non-null int64\n",
      "source_id                    10437 non-null object\n",
      "source_name                  10437 non-null object\n",
      "author                       9417 non-null object\n",
      "title                        10435 non-null object\n",
      "description                  10413 non-null object\n",
      "url                          10436 non-null object\n",
      "url_to_image                 9781 non-null object\n",
      "published_at                 10436 non-null object\n",
      "content                      9145 non-null object\n",
      "top_article                  10435 non-null float64\n",
      "engagement_reaction_count    10319 non-null float64\n",
      "engagement_comment_count     10319 non-null float64\n",
      "engagement_share_count       10319 non-null float64\n",
      "keyword_flag                 10437 non-null int64\n",
      "dtypes: float64(4), int64(2), object(9)\n",
      "memory usage: 1.2+ MB\n"
     ]
    }
   ],
   "source": [
    "data.info()"
   ]
  },
  {
   "cell_type": "code",
   "execution_count": 12,
   "metadata": {},
   "outputs": [],
   "source": [
    "# sent_int = SentimentIntensityAnalyzer()\n",
    "# text = data['title'][16]\n",
    "# sent = sent_int.polarity_scores(text)\n",
    "# sent"
   ]
  },
  {
   "cell_type": "code",
   "execution_count": 14,
   "metadata": {},
   "outputs": [],
   "source": [
    "#  adding a for loop to extract sentiment\n",
    "title_neg_sentiment = []\n",
    "title_neu_sentiment = []\n",
    "title_pos_sentiment = []\n",
    "\n",
    "for x in range(0, len(data)):\n",
    "    text = str(data['title'][x])\n",
    "    sent_int = SentimentIntensityAnalyzer()\n",
    "    sent = sent_int.polarity_scores(text)\n",
    "    title_neg_sentiment.append(sent['neg'])\n",
    "    title_pos_sentiment.append(sent['pos'])\n",
    "    title_neu_sentiment.append(sent['neu'])"
   ]
  },
  {
   "cell_type": "code",
   "execution_count": 15,
   "metadata": {},
   "outputs": [],
   "source": [
    "data['title_neg_sentiment'] = pd.Series(title_neg_sentiment)\n",
    "data['title_pos_sentiment'] = pd.Series(title_pos_sentiment)\n",
    "data['title_neu_sentiment'] = pd.Series(title_neu_sentiment)"
   ]
  },
  {
   "cell_type": "code",
   "execution_count": 16,
   "metadata": {},
   "outputs": [
    {
     "name": "stdout",
     "output_type": "stream",
     "text": [
      "<class 'pandas.core.frame.DataFrame'>\n",
      "RangeIndex: 10437 entries, 0 to 10436\n",
      "Data columns (total 18 columns):\n",
      "article_id                   10437 non-null int64\n",
      "source_id                    10437 non-null object\n",
      "source_name                  10437 non-null object\n",
      "author                       9417 non-null object\n",
      "title                        10435 non-null object\n",
      "description                  10413 non-null object\n",
      "url                          10436 non-null object\n",
      "url_to_image                 9781 non-null object\n",
      "published_at                 10436 non-null object\n",
      "content                      9145 non-null object\n",
      "top_article                  10435 non-null float64\n",
      "engagement_reaction_count    10319 non-null float64\n",
      "engagement_comment_count     10319 non-null float64\n",
      "engagement_share_count       10319 non-null float64\n",
      "keyword_flag                 10437 non-null int64\n",
      "title_neg_sentiment          10437 non-null float64\n",
      "title_pos_sentiment          10437 non-null float64\n",
      "title_neu_sentiment          10437 non-null float64\n",
      "dtypes: float64(7), int64(2), object(9)\n",
      "memory usage: 1.4+ MB\n"
     ]
    }
   ],
   "source": [
    "data.info()"
   ]
  },
  {
   "cell_type": "code",
   "execution_count": 17,
   "metadata": {},
   "outputs": [
    {
     "name": "stderr",
     "output_type": "stream",
     "text": [
      "C:\\Users\\ogonk\\Anaconda3\\lib\\site-packages\\xlsxwriter\\worksheet.py:915: UserWarning: Ignoring URL 'https://cbsnews1.cbsistatic.com/hub/i/r/2019/09/05/26dd2d6d-119b-4f28-a5d4-3290286d025c/thumbnail/1200x630/dfe34d28071d8f1408756c4db9656083/cbsn-fusion-pope-francis-urges-continued-peace-in-mozambique-following-a-15-year-civil-war-thumbnail-1927384-640x360.jpg' with link or location/anchor > 255 characters since it exceeds Excel's limit for URLS\n",
      "  force_unicode(url))\n",
      "C:\\Users\\ogonk\\Anaconda3\\lib\\site-packages\\xlsxwriter\\worksheet.py:915: UserWarning: Ignoring URL 'https://cbsnews1.cbsistatic.com/hub/i/r/2019/09/06/0f348495-762f-4499-a897-f2b51f6dfda0/thumbnail/1200x630/46edc901537163fe5454ff727466e708/cbsn-fusion-2020-daily-trail-markers-joe-kennedy-stumps-for-warren-while-considering-senate-bid-thumbnail-1927784.jpg' with link or location/anchor > 255 characters since it exceeds Excel's limit for URLS\n",
      "  force_unicode(url))\n",
      "C:\\Users\\ogonk\\Anaconda3\\lib\\site-packages\\xlsxwriter\\worksheet.py:915: UserWarning: Ignoring URL 'https://dynaimage.cdn.cnn.com/cnn/w_1200/http%3A%2F%2Fcdn.cnn.com%2Fcnnnext%2Fdam%2Fassets%2F190906103859-forest-in-football-stadium---klaus-littmann-for-forest---the-unending-attraction-of-nature-wrthersee-stadium-klagenfurt--gerhard-maurer-6-super-tease.jpg' with link or location/anchor > 255 characters since it exceeds Excel's limit for URLS\n",
      "  force_unicode(url))\n",
      "C:\\Users\\ogonk\\Anaconda3\\lib\\site-packages\\xlsxwriter\\worksheet.py:915: UserWarning: Ignoring URL 'https://cbsnews3.cbsistatic.com/hub/i/r/2019/08/29/52847e7a-c5d6-4614-803c-d20017522398/thumbnail/1200x630/17e4734d0428e028d00b34b87f846f6d/cbsn-fusion-the-washington-post-says-former-vice-president-and-2020-contender-joe-biden-wants-a-woman-or-a-person-of.jpg' with link or location/anchor > 255 characters since it exceeds Excel's limit for URLS\n",
      "  force_unicode(url))\n",
      "C:\\Users\\ogonk\\Anaconda3\\lib\\site-packages\\xlsxwriter\\worksheet.py:915: UserWarning: Ignoring URL 'https://cbsnews1.cbsistatic.com/hub/i/r/2019/09/19/4483be92-15bb-42be-8442-ccbc798a7703/thumbnail/1200x630/3c6be9a15682b9190cefa7ccf1911c19/cbsn-fusion-barr-meets-with-lawmakers-on-capitol-hill-as-trump-considers-gun-legislation-proposals-thumbnail-349152.jpg' with link or location/anchor > 255 characters since it exceeds Excel's limit for URLS\n",
      "  force_unicode(url))\n",
      "C:\\Users\\ogonk\\Anaconda3\\lib\\site-packages\\xlsxwriter\\worksheet.py:915: UserWarning: Ignoring URL 'https://cbsnews3.cbsistatic.com/hub/i/r/2019/10/01/61944f8d-8242-4d4d-9618-ddbbe3b83ea6/thumbnail/1200x630/74d571cd3952125b5a94cb107ab81ad2/cbsn-fusion-trumps-campaign-could-use-impeachment-inquiry-to-play-victim-card-report-says-thumbnail-360625-640x360.jpg' with link or location/anchor > 255 characters since it exceeds Excel's limit for URLS\n",
      "  force_unicode(url))\n",
      "C:\\Users\\ogonk\\Anaconda3\\lib\\site-packages\\xlsxwriter\\worksheet.py:915: UserWarning: Ignoring URL 'https://cbsnews2.cbsistatic.com/hub/i/r/2019/10/01/c3d9f930-3a5b-496a-9ef6-6d0901853974/thumbnail/1200x630/987d4ff0dbdaa2ae131c0c9427ec2e29/cbsn-fusion-a-cbs-news-poll-shows-a-majority-of-americans-approve-of-an-impeachment-inquiry-into-president-trump.jpg' with link or location/anchor > 255 characters since it exceeds Excel's limit for URLS\n",
      "  force_unicode(url))\n",
      "C:\\Users\\ogonk\\Anaconda3\\lib\\site-packages\\xlsxwriter\\worksheet.py:915: UserWarning: Ignoring URL 'https://cbsnews1.cbsistatic.com/hub/i/r/2019/10/01/d4cbd38e-f5a8-42fd-81a0-eeb2a87d4cd4/thumbnail/1200x630/a2e1bbaf170427f9554465df109bcbcc/cbsn-fusion-saudi-arabia-crown-prince-mohammad-bin-salman-jamal-khashoggi-norah-odonnell-interview-thumbnail-360644.jpg' with link or location/anchor > 255 characters since it exceeds Excel's limit for URLS\n",
      "  force_unicode(url))\n",
      "C:\\Users\\ogonk\\Anaconda3\\lib\\site-packages\\xlsxwriter\\worksheet.py:915: UserWarning: Ignoring URL 'https://cbsnews1.cbsistatic.com/hub/i/r/2019/10/02/f111d7ae-66ee-473e-806e-e236fd4e7f57/thumbnail/1200x630/66a47b8aea60f46f7b614bfefb88f13a/cbsn-fusion-marijuana-is-on-the-menu-at-the-nations-first-cannabis-cafe-in-west-hollywood-california-thumbnail-361485.jpg' with link or location/anchor > 255 characters since it exceeds Excel's limit for URLS\n",
      "  force_unicode(url))\n"
     ]
    }
   ],
   "source": [
    "data.to_excel('Data/blogme_clean.xlsx', sheet_name='blogmedata')"
   ]
  },
  {
   "cell_type": "code",
   "execution_count": null,
   "metadata": {},
   "outputs": [],
   "source": []
  }
 ],
 "metadata": {
  "kernelspec": {
   "display_name": "Python 3",
   "language": "python",
   "name": "python3"
  },
  "language_info": {
   "codemirror_mode": {
    "name": "ipython",
    "version": 3
   },
   "file_extension": ".py",
   "mimetype": "text/x-python",
   "name": "python",
   "nbconvert_exporter": "python",
   "pygments_lexer": "ipython3",
   "version": "3.7.3"
  }
 },
 "nbformat": 4,
 "nbformat_minor": 2
}
